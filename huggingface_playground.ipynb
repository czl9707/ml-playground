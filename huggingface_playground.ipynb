{
 "cells": [
  {
   "cell_type": "markdown",
   "id": "8b2b12c5",
   "metadata": {},
   "source": [
    "# Explore Pytorch\n",
    "\n",
    "Although I prefer use `.py` file, but jupytor notebook do provide some advantage. Especially step by step execution.\n",
    "\n",
    "## Loading Model and Tokenizer"
   ]
  },
  {
   "cell_type": "code",
   "execution_count": 1,
   "id": "89424e7e",
   "metadata": {},
   "outputs": [],
   "source": [
    "from transformers import BertModel, BertTokenizer\n",
    "\n",
    "checkpoint = \"bert-base-uncased\"\n",
    "\n",
    "tokenizer: BertTokenizer = BertTokenizer.from_pretrained(checkpoint)\n",
    "model: BertModel = BertModel.from_pretrained(checkpoint)\n",
    "\n",
    "raw_inputs = \"I've been waiting for a HuggingFace course my whole life.\""
   ]
  },
  {
   "cell_type": "markdown",
   "id": "1708fc34",
   "metadata": {},
   "source": [
    "Tokenizer actually is a two step process. Tokenize and Convert token to ids."
   ]
  },
  {
   "cell_type": "code",
   "execution_count": 2,
   "id": "08adac78",
   "metadata": {},
   "outputs": [
    {
     "name": "stdout",
     "output_type": "stream",
     "text": [
      "['i', \"'\", 've', 'been', 'waiting', 'for', 'a', 'hugging', '##face', 'course', 'my', 'whole', 'life', '.']\n",
      "[1045, 1005, 2310, 2042, 3403, 2005, 1037, 17662, 12172, 2607, 2026, 2878, 2166, 1012]\n"
     ]
    }
   ],
   "source": [
    "tokens = tokenizer.tokenize(raw_inputs)\n",
    "print(tokens)\n",
    "\n",
    "ids = tokenizer.convert_tokens_to_ids(tokens)\n",
    "print(ids)"
   ]
  },
  {
   "cell_type": "markdown",
   "id": "43e90122",
   "metadata": {},
   "source": [
    "Tokenizer interface allow padding and truncation.\n",
    "\n",
    "And also specify the return_tensor type, can be pytorch or tensorflow."
   ]
  },
  {
   "cell_type": "code",
   "execution_count": 3,
   "id": "adf2ceec",
   "metadata": {},
   "outputs": [
    {
     "name": "stdout",
     "output_type": "stream",
     "text": [
      "torch.Size([1, 16])\n",
      "torch.Size([1, 16])\n",
      "torch.Size([1, 512])\n",
      "torch.Size([1, 16])\n"
     ]
    }
   ],
   "source": [
    "model_inputs = tokenizer(raw_inputs, return_tensors=\"pt\")\n",
    "print(model_inputs[\"input_ids\"].size())\n",
    "\n",
    "model_inputs = tokenizer(raw_inputs, padding=\"longest\", return_tensors=\"pt\")\n",
    "print(model_inputs[\"input_ids\"].size())\n",
    "\n",
    "model_inputs = tokenizer(raw_inputs, padding=\"max_length\", return_tensors=\"pt\")\n",
    "print(model_inputs[\"input_ids\"].size())\n",
    "\n",
    "model_inputs = tokenizer(raw_inputs, padding=\"max_length\", max_length=8, return_tensors=\"pt\")\n",
    "print(model_inputs[\"input_ids\"].size())\n"
   ]
  },
  {
   "cell_type": "markdown",
   "id": "12c659c0",
   "metadata": {},
   "source": [
    "Tokenizer also take multiple sequence as inputs.\n",
    "And Special token appear at start and end of the sequence."
   ]
  },
  {
   "cell_type": "code",
   "execution_count": 4,
   "id": "2f82126d",
   "metadata": {},
   "outputs": [
    {
     "name": "stdout",
     "output_type": "stream",
     "text": [
      "{'input_ids': tensor([[  101,  1045,  1005,  2310,  2042,  3403,  2005,  1037, 17662, 12172,\n",
      "          2607,  2026,  2878,  2166,  1012,   102],\n",
      "        [  101,  2061,  2031,  1045,  5223,  2008,   999,   102,     0,     0,\n",
      "             0,     0,     0,     0,     0,     0]]), 'token_type_ids': tensor([[0, 0, 0, 0, 0, 0, 0, 0, 0, 0, 0, 0, 0, 0, 0, 0],\n",
      "        [0, 0, 0, 0, 0, 0, 0, 0, 0, 0, 0, 0, 0, 0, 0, 0]]), 'attention_mask': tensor([[1, 1, 1, 1, 1, 1, 1, 1, 1, 1, 1, 1, 1, 1, 1, 1],\n",
      "        [1, 1, 1, 1, 1, 1, 1, 1, 0, 0, 0, 0, 0, 0, 0, 0]])}\n",
      "torch.Size([2, 16])\n",
      "[CLS] i've been waiting for a huggingface course my whole life. [SEP]\n",
      "[CLS] so have i hate that! [SEP] [PAD] [PAD] [PAD] [PAD] [PAD] [PAD] [PAD] [PAD]\n"
     ]
    }
   ],
   "source": [
    "sequences = [\"I've been waiting for a HuggingFace course my whole life.\", \"So have I hate that!\"]\n",
    "\n",
    "model_inputs = tokenizer(sequences, padding=True, return_tensors=\"pt\")\n",
    "print(model_inputs)\n",
    "print(model_inputs[\"input_ids\"].size())\n",
    "\n",
    "print(tokenizer.decode(model_inputs[\"input_ids\"][0]))\n",
    "print(tokenizer.decode(model_inputs[\"input_ids\"][1]))"
   ]
  },
  {
   "cell_type": "markdown",
   "id": "15eac597",
   "metadata": {},
   "source": [
    "# To Fine Tune / Train a model\n",
    "\n",
    "Basic sample code."
   ]
  },
  {
   "cell_type": "code",
   "execution_count": 5,
   "id": "790c573b",
   "metadata": {},
   "outputs": [
    {
     "name": "stderr",
     "output_type": "stream",
     "text": [
      "Some weights of BertForSequenceClassification were not initialized from the model checkpoint at bert-base-uncased and are newly initialized: ['classifier.bias', 'classifier.weight']\n",
      "You should probably TRAIN this model on a down-stream task to be able to use it for predictions and inference.\n"
     ]
    }
   ],
   "source": [
    "import torch\n",
    "from torch.optim import AdamW\n",
    "from transformers import AutoTokenizer, AutoModelForSequenceClassification\n",
    "\n",
    "tokenizer = AutoTokenizer.from_pretrained(checkpoint)\n",
    "model = AutoModelForSequenceClassification.from_pretrained(checkpoint)\n",
    "sequences = [\n",
    "    \"I've been waiting for a HuggingFace course my whole life.\",\n",
    "    \"This course is amazing!\",\n",
    "]\n",
    "\n",
    "batch = tokenizer(sequences, padding=True, truncation=True, return_tensors=\"pt\")\n",
    "batch[\"labels\"] = torch.tensor([1, 1])\n",
    "\n",
    "optimizer = AdamW(model.parameters())\n",
    "loss = model(**batch).loss\n",
    "loss.backward()\n",
    "optimizer.step()"
   ]
  },
  {
   "cell_type": "markdown",
   "id": "959e5825",
   "metadata": {},
   "source": [
    "Some Exploration on dataset loaded."
   ]
  },
  {
   "cell_type": "code",
   "execution_count": 6,
   "id": "f67ca3a9",
   "metadata": {},
   "outputs": [
    {
     "data": {
      "text/plain": [
       "DatasetDict({\n",
       "    train: Dataset({\n",
       "        features: ['sentence1', 'sentence2', 'label', 'idx'],\n",
       "        num_rows: 3668\n",
       "    })\n",
       "    validation: Dataset({\n",
       "        features: ['sentence1', 'sentence2', 'label', 'idx'],\n",
       "        num_rows: 408\n",
       "    })\n",
       "    test: Dataset({\n",
       "        features: ['sentence1', 'sentence2', 'label', 'idx'],\n",
       "        num_rows: 1725\n",
       "    })\n",
       "})"
      ]
     },
     "execution_count": 6,
     "metadata": {},
     "output_type": "execute_result"
    }
   ],
   "source": [
    "from datasets import load_dataset\n",
    "\n",
    "raw_datasets = load_dataset(\"glue\", \"mrpc\")\n",
    "raw_datasets"
   ]
  },
  {
   "cell_type": "code",
   "execution_count": 7,
   "id": "b4c860af",
   "metadata": {},
   "outputs": [
    {
     "name": "stdout",
     "output_type": "stream",
     "text": [
      "{'sentence1': 'Amrozi accused his brother , whom he called \" the witness \" , of deliberately distorting his evidence .', 'sentence2': 'Referring to him as only \" the witness \" , Amrozi accused his brother of deliberately distorting his evidence .', 'label': 1, 'idx': 0}\n",
      "{'sentence1': Value('string'), 'sentence2': Value('string'), 'label': ClassLabel(names=['not_equivalent', 'equivalent']), 'idx': Value('int32')}\n",
      "['not_equivalent', 'equivalent']\n"
     ]
    }
   ],
   "source": [
    "train_ds = raw_datasets[\"train\"]\n",
    "print(train_ds[0])\n",
    "print(train_ds.features)\n",
    "print(train_ds.features[\"label\"].names)\n",
    "\n",
    "# from datasets import ClassLabel\n",
    "# ClassLabel(num_classes=3, names=['bad', 'ok', 'good'])"
   ]
  },
  {
   "cell_type": "code",
   "execution_count": null,
   "id": "e20a9593",
   "metadata": {},
   "outputs": [
    {
     "name": "stdout",
     "output_type": "stream",
     "text": [
      "Dataset({\n",
      "    features: ['sentence1', 'sentence2', 'label', 'idx'],\n",
      "    num_rows: 3668\n",
      "})\n",
      "Dataset({\n",
      "    features: ['sentence1', 'sentence2', 'label', 'idx', 'input_ids', 'token_type_ids', 'attention_mask'],\n",
      "    num_rows: 3668\n",
      "})\n"
     ]
    }
   ],
   "source": [
    "tokenized_ds = train_ds.map(lambda dr : tokenizer(dr[\"sentence1\"], dr[\"sentence2\"], truncation=True), batched=True)\n",
    "print(train_ds)\n",
    "print(tokenized_ds)"
   ]
  },
  {
   "cell_type": "markdown",
   "id": "503b98bf",
   "metadata": {},
   "source": [
    "Use Data Collator to batch padding sequence."
   ]
  },
  {
   "cell_type": "code",
   "execution_count": 9,
   "id": "edf3a8e9",
   "metadata": {},
   "outputs": [
    {
     "name": "stdout",
     "output_type": "stream",
     "text": [
      "{'input_ids': torch.Size([16, 67]), 'token_type_ids': torch.Size([16, 67]), 'attention_mask': torch.Size([16, 67]), 'labels': torch.Size([16])}\n"
     ]
    }
   ],
   "source": [
    "from transformers import DataCollatorWithPadding\n",
    "\n",
    "batch_size = 16\n",
    "samples = tokenized_ds[:batch_size]\n",
    "samples = {k: v for k, v in samples.items() if k not in [\"idx\", \"sentence1\", \"sentence2\"]}\n",
    "\n",
    "data_collator = DataCollatorWithPadding(tokenizer=tokenizer)\n",
    "batch = data_collator(samples)\n",
    "print({k: v.shape for k, v in batch.items()})"
   ]
  },
  {
   "cell_type": "markdown",
   "id": "ee711f86",
   "metadata": {},
   "source": [
    "# Use a Trainer to fine tune the model"
   ]
  },
  {
   "cell_type": "code",
   "execution_count": null,
   "id": "235b3094",
   "metadata": {},
   "outputs": [
    {
     "name": "stderr",
     "output_type": "stream",
     "text": [
      "Some weights of BertForSequenceClassification were not initialized from the model checkpoint at bert-base-uncased and are newly initialized: ['classifier.bias', 'classifier.weight']\n",
      "You should probably TRAIN this model on a down-stream task to be able to use it for predictions and inference.\n"
     ]
    },
    {
     "data": {
      "application/vnd.jupyter.widget-view+json": {
       "model_id": "e1ccd25b2cba417f8b1af8adab132abf",
       "version_major": 2,
       "version_minor": 0
      },
      "text/plain": [
       "Map:   0%|          | 0/3668 [00:00<?, ? examples/s]"
      ]
     },
     "metadata": {},
     "output_type": "display_data"
    },
    {
     "data": {
      "application/vnd.jupyter.widget-view+json": {
       "model_id": "eb97fc7b1432458aa57a8eeb276a4327",
       "version_major": 2,
       "version_minor": 0
      },
      "text/plain": [
       "Map:   0%|          | 0/408 [00:00<?, ? examples/s]"
      ]
     },
     "metadata": {},
     "output_type": "display_data"
    },
    {
     "data": {
      "application/vnd.jupyter.widget-view+json": {
       "model_id": "7f4a83dd068f4a39a47613f196725c17",
       "version_major": 2,
       "version_minor": 0
      },
      "text/plain": [
       "Map:   0%|          | 0/1725 [00:00<?, ? examples/s]"
      ]
     },
     "metadata": {},
     "output_type": "display_data"
    }
   ],
   "source": [
    "from transformers import TrainingArguments, AutoModelForSequenceClassification, Trainer\n",
    "import numpy as np\n",
    "import evaluate\n",
    "\n",
    "training_args = TrainingArguments(\n",
    "    \"hf_test_dir\",\n",
    "    eval_strategy=\"epoch\",\n",
    ")\n",
    "model: AutoModelForSequenceClassification = AutoModelForSequenceClassification.from_pretrained(checkpoint, num_labels=2)\n",
    "metric = evaluate.load(\"glue\", \"mrpc\")\n",
    "\n",
    "tokenized_ds = raw_datasets.map(lambda dr : tokenizer(dr[\"sentence1\"], dr[\"sentence2\"], truncation=True), batched=True)\n",
    "\n",
    "def compute_metrics(eval_preds):\n",
    "    logits, labels = eval_preds\n",
    "    predictions = np.argmax(logits, axis=-1)\n",
    "    return metric.compute(predictions=predictions, references=labels)\n",
    "\n",
    "model.train()\n",
    "trainer = Trainer(\n",
    "    model,\n",
    "    training_args,\n",
    "    train_dataset=tokenized_ds[\"train\"],\n",
    "    eval_dataset=tokenized_ds[\"validation\"],\n",
    "    data_collator=data_collator,\n",
    "    processing_class=tokenizer,\n",
    "    compute_metrics=compute_metrics,\n",
    ")"
   ]
  },
  {
   "cell_type": "code",
   "execution_count": 12,
   "id": "8fc18175",
   "metadata": {},
   "outputs": [
    {
     "name": "stderr",
     "output_type": "stream",
     "text": [
      "/home/zain_chen/playground/ml-playground/.venv/lib/python3.13/site-packages/torch/utils/data/dataloader.py:665: UserWarning: 'pin_memory' argument is set as true but no accelerator is found, then device pinned memory won't be used.\n",
      "  warnings.warn(warn_msg)\n"
     ]
    },
    {
     "data": {
      "text/html": [
       "\n",
       "    <div>\n",
       "      \n",
       "      <progress value='1377' max='1377' style='width:300px; height:20px; vertical-align: middle;'></progress>\n",
       "      [1377/1377 37:01, Epoch 3/3]\n",
       "    </div>\n",
       "    <table border=\"1\" class=\"dataframe\">\n",
       "  <thead>\n",
       " <tr style=\"text-align: left;\">\n",
       "      <th>Step</th>\n",
       "      <th>Training Loss</th>\n",
       "    </tr>\n",
       "  </thead>\n",
       "  <tbody>\n",
       "    <tr>\n",
       "      <td>500</td>\n",
       "      <td>0.527100</td>\n",
       "    </tr>\n",
       "    <tr>\n",
       "      <td>1000</td>\n",
       "      <td>0.335100</td>\n",
       "    </tr>\n",
       "  </tbody>\n",
       "</table><p>"
      ],
      "text/plain": [
       "<IPython.core.display.HTML object>"
      ]
     },
     "metadata": {},
     "output_type": "display_data"
    },
    {
     "name": "stderr",
     "output_type": "stream",
     "text": [
      "/home/zain_chen/playground/ml-playground/.venv/lib/python3.13/site-packages/torch/utils/data/dataloader.py:665: UserWarning: 'pin_memory' argument is set as true but no accelerator is found, then device pinned memory won't be used.\n",
      "  warnings.warn(warn_msg)\n",
      "/home/zain_chen/playground/ml-playground/.venv/lib/python3.13/site-packages/torch/utils/data/dataloader.py:665: UserWarning: 'pin_memory' argument is set as true but no accelerator is found, then device pinned memory won't be used.\n",
      "  warnings.warn(warn_msg)\n"
     ]
    },
    {
     "data": {
      "text/html": [],
      "text/plain": [
       "<IPython.core.display.HTML object>"
      ]
     },
     "metadata": {},
     "output_type": "display_data"
    },
    {
     "name": "stdout",
     "output_type": "stream",
     "text": [
      "PredictionOutput(predictions=array([[-2.8588297e+00,  2.9076500e+00],\n",
      "       [ 2.1174812e+00, -2.1830401e+00],\n",
      "       [-1.3695407e+00,  1.0223094e+00],\n",
      "       [-2.7460175e+00,  2.8163099e+00],\n",
      "       [ 2.0967627e+00, -2.1941075e+00],\n",
      "       [-2.8573503e+00,  2.9109869e+00],\n",
      "       [-2.7460475e+00,  2.8361127e+00],\n",
      "       [-2.8682790e+00,  2.9111447e+00],\n",
      "       [-2.4225206e+00,  2.5764523e+00],\n",
      "       [-2.8561912e+00,  2.9126270e+00],\n",
      "       [-2.8786507e+00,  2.9200387e+00],\n",
      "       [ 2.1351697e+00, -2.2298594e+00],\n",
      "       [ 2.0381045e+00, -2.0524592e+00],\n",
      "       [-2.7989392e+00,  2.8602877e+00],\n",
      "       [-2.8759811e+00,  2.8983665e+00],\n",
      "       [-2.7815151e+00,  2.8385062e+00],\n",
      "       [-2.8701277e+00,  2.8969526e+00],\n",
      "       [ 1.7477285e+00, -1.8299227e+00],\n",
      "       [-2.8804173e+00,  2.9075732e+00],\n",
      "       [ 1.7656301e+00, -1.8787601e+00],\n",
      "       [ 1.8633493e+00, -1.9813521e+00],\n",
      "       [-9.7451252e-01,  7.2711480e-01],\n",
      "       [ 2.0082030e+00, -2.0762424e+00],\n",
      "       [-2.8459220e+00,  2.8866606e+00],\n",
      "       [-2.8618999e+00,  2.9037185e+00],\n",
      "       [-2.2585115e+00,  2.3561201e+00],\n",
      "       [-2.3380382e+00,  2.4668257e+00],\n",
      "       [-2.8814509e+00,  2.9006989e+00],\n",
      "       [-2.7461960e+00,  2.8384786e+00],\n",
      "       [-2.8359370e+00,  2.9010382e+00],\n",
      "       [ 1.8984889e+00, -1.9845380e+00],\n",
      "       [-2.8813720e+00,  2.9009864e+00],\n",
      "       [-2.8458691e+00,  2.8910594e+00],\n",
      "       [-2.6059408e+00,  2.7170248e+00],\n",
      "       [-2.8414791e+00,  2.8881810e+00],\n",
      "       [-2.7882631e+00,  2.8315465e+00],\n",
      "       [ 1.8559746e+00, -2.0430441e+00],\n",
      "       [ 2.0189881e+00, -2.1315994e+00],\n",
      "       [-2.7793100e+00,  2.8462245e+00],\n",
      "       [-2.8830395e+00,  2.9046242e+00],\n",
      "       [ 2.1168621e+00, -2.1678789e+00],\n",
      "       [-2.8532414e+00,  2.9065533e+00],\n",
      "       [ 1.7614226e+00, -1.8701578e+00],\n",
      "       [ 1.8025019e+00, -1.9297749e+00],\n",
      "       [ 1.6728657e+00, -1.7991905e+00],\n",
      "       [-2.8759284e+00,  2.9196301e+00],\n",
      "       [-2.8945408e+00,  2.9355531e+00],\n",
      "       [ 2.1350951e+00, -2.2242544e+00],\n",
      "       [-2.8786750e+00,  2.9301944e+00],\n",
      "       [-2.8083210e+00,  2.8778234e+00],\n",
      "       [-2.8105049e+00,  2.8512754e+00],\n",
      "       [-2.7766004e+00,  2.8414249e+00],\n",
      "       [-2.8311763e+00,  2.8935113e+00],\n",
      "       [-2.8584318e+00,  2.9113197e+00],\n",
      "       [-2.8850021e+00,  2.9259911e+00],\n",
      "       [-2.7886560e+00,  2.8439465e+00],\n",
      "       [-9.5930451e-01,  6.9338089e-01],\n",
      "       [-2.8750095e+00,  2.9221115e+00],\n",
      "       [-2.8640275e+00,  2.9170952e+00],\n",
      "       [-2.8523855e+00,  2.9034848e+00],\n",
      "       [-2.4196234e+00,  2.4874673e+00],\n",
      "       [-1.5621853e+00,  1.5226666e+00],\n",
      "       [-2.8689113e+00,  2.9200435e+00],\n",
      "       [-2.8394856e+00,  2.8715827e+00],\n",
      "       [-2.8411613e+00,  2.8886709e+00],\n",
      "       [ 2.0515895e+00, -2.1349039e+00],\n",
      "       [-2.8907712e+00,  2.9076331e+00],\n",
      "       [-2.8647604e+00,  2.9044304e+00],\n",
      "       [ 1.4986349e+00, -1.6444863e+00],\n",
      "       [-2.8666759e+00,  2.9205897e+00],\n",
      "       [-2.8753259e+00,  2.9149320e+00],\n",
      "       [-1.4707232e+00,  1.3940014e+00],\n",
      "       [-2.8854516e+00,  2.9066064e+00],\n",
      "       [-2.8641906e+00,  2.9082260e+00],\n",
      "       [-2.4217327e+00,  2.5761831e+00],\n",
      "       [-2.6834364e+00,  2.7867014e+00],\n",
      "       [-2.8483596e+00,  2.9101148e+00],\n",
      "       [-2.8758578e+00,  2.9102454e+00],\n",
      "       [-2.8546176e+00,  2.9192319e+00],\n",
      "       [-2.8985796e+00,  2.9435589e+00],\n",
      "       [-2.4460816e+00,  2.5546975e+00],\n",
      "       [-2.8516951e+00,  2.9160416e+00],\n",
      "       [-2.8628461e+00,  2.9021401e+00],\n",
      "       [ 1.8156255e+00, -1.9193527e+00],\n",
      "       [-2.8693476e+00,  2.8907847e+00],\n",
      "       [ 1.6879103e+00, -1.8262222e+00],\n",
      "       [-2.4605463e+00,  2.5504398e+00],\n",
      "       [-1.8225161e+00,  1.8404876e+00],\n",
      "       [-2.8690434e+00,  2.9240997e+00],\n",
      "       [-2.8787322e+00,  2.9037578e+00],\n",
      "       [ 1.9249042e+00, -2.0716014e+00],\n",
      "       [-2.8705935e+00,  2.9227426e+00],\n",
      "       [-2.8419905e+00,  2.8874762e+00],\n",
      "       [-2.8767242e+00,  2.9215553e+00],\n",
      "       [-2.8827052e+00,  2.9153328e+00],\n",
      "       [-2.8712721e+00,  2.8978884e+00],\n",
      "       [ 1.5604588e+00, -1.7552019e+00],\n",
      "       [-2.7416382e+00,  2.8292089e+00],\n",
      "       [-2.8291368e+00,  2.8857708e+00],\n",
      "       [-2.8346238e+00,  2.8850591e+00],\n",
      "       [-2.8930783e+00,  2.9261894e+00],\n",
      "       [ 1.1362323e+00, -1.5213338e+00],\n",
      "       [-2.8453422e+00,  2.8965530e+00],\n",
      "       [-2.8908157e+00,  2.9308527e+00],\n",
      "       [ 6.1186677e-01, -5.8974952e-01],\n",
      "       [-2.8965380e+00,  2.9449325e+00],\n",
      "       [-2.4425325e+00,  2.5237093e+00],\n",
      "       [ 1.9437901e+00, -2.0195246e+00],\n",
      "       [ 1.9990395e+00, -2.0939093e+00],\n",
      "       [-2.8910718e+00,  2.9280670e+00],\n",
      "       [ 8.5419637e-01, -1.0751740e+00],\n",
      "       [-5.5575734e-01,  4.4525823e-01],\n",
      "       [-2.8616297e+00,  2.8998947e+00],\n",
      "       [-2.8812172e+00,  2.8896785e+00],\n",
      "       [-2.0796437e+00,  2.1946466e+00],\n",
      "       [ 2.1350186e+00, -2.1558075e+00],\n",
      "       [-2.8774135e+00,  2.9113383e+00],\n",
      "       [-2.8063769e+00,  2.8525798e+00],\n",
      "       [-2.8887591e+00,  2.8965995e+00],\n",
      "       [-2.8745527e+00,  2.9056597e+00],\n",
      "       [-2.8113468e+00,  2.8695252e+00],\n",
      "       [-8.5576129e-01,  5.4120481e-01],\n",
      "       [ 1.9578648e+00, -2.0729256e+00],\n",
      "       [-2.8182364e+00,  2.8653464e+00],\n",
      "       [-2.8568020e+00,  2.8993428e+00],\n",
      "       [-2.8471084e+00,  2.9083655e+00],\n",
      "       [-2.8522995e+00,  2.9152837e+00],\n",
      "       [ 2.0596993e+00, -2.1166096e+00],\n",
      "       [-2.8845334e+00,  2.8978658e+00],\n",
      "       [-2.8558168e+00,  2.8931160e+00],\n",
      "       [-2.8732703e+00,  2.9265642e+00],\n",
      "       [ 2.0306344e+00, -2.1323934e+00],\n",
      "       [-2.6293378e+00,  2.7359891e+00],\n",
      "       [-1.1085221e+00,  1.1263057e+00],\n",
      "       [-2.6450832e+00,  2.7123003e+00],\n",
      "       [-2.7365828e+00,  2.8245356e+00],\n",
      "       [ 9.1850901e-01, -1.1008250e+00],\n",
      "       [ 2.0829806e+00, -2.1489191e+00],\n",
      "       [-2.8741012e+00,  2.8805254e+00],\n",
      "       [-2.8253684e+00,  2.8946009e+00],\n",
      "       [-2.8878276e+00,  2.9091134e+00],\n",
      "       [ 1.9454950e+00, -1.9659113e+00],\n",
      "       [ 2.2362623e+00, -2.2921290e+00],\n",
      "       [-2.8387752e+00,  2.9095604e+00],\n",
      "       [ 2.1304002e+00, -2.2340381e+00],\n",
      "       [-2.4810281e+00,  2.5442781e+00],\n",
      "       [-2.8887973e+00,  2.9103959e+00],\n",
      "       [-2.3975832e+00,  2.5188837e+00],\n",
      "       [ 1.9747726e+00, -1.9824104e+00],\n",
      "       [-2.8960505e+00,  2.9211817e+00],\n",
      "       [ 2.1211808e+00, -2.2026474e+00],\n",
      "       [-1.6240617e+00,  1.3689542e+00],\n",
      "       [-2.3250041e+00,  2.4317801e+00],\n",
      "       [-2.8668189e+00,  2.9094958e+00],\n",
      "       [-1.7268721e+00,  1.6669949e+00],\n",
      "       [-2.8559723e+00,  2.8966069e+00],\n",
      "       [-2.8598084e+00,  2.9151917e+00],\n",
      "       [-2.7414606e+00,  2.8169670e+00],\n",
      "       [ 1.4366249e+00, -1.6437882e+00],\n",
      "       [-2.7818363e+00,  2.8430796e+00],\n",
      "       [-2.6882899e+00,  2.7783804e+00],\n",
      "       [-2.8577816e+00,  2.8998656e+00],\n",
      "       [-2.8865666e+00,  2.9205134e+00],\n",
      "       [-2.8708422e+00,  2.9205196e+00],\n",
      "       [-2.7782116e+00,  2.8632152e+00],\n",
      "       [-2.8639429e+00,  2.8971162e+00],\n",
      "       [-2.5665989e+00,  2.6784918e+00],\n",
      "       [ 6.7933834e-01, -5.5811822e-01],\n",
      "       [-2.8103361e+00,  2.8664129e+00],\n",
      "       [ 2.0470033e+00, -2.1332874e+00],\n",
      "       [ 1.6010029e+00, -1.7799705e+00],\n",
      "       [-2.1676648e+00,  2.3341372e+00],\n",
      "       [-2.0417738e+00,  2.0795007e+00],\n",
      "       [-2.8418353e+00,  2.8652015e+00],\n",
      "       [-2.0984552e+00,  2.0218697e+00],\n",
      "       [-2.8362484e+00,  2.8934970e+00],\n",
      "       [-2.2873876e+00,  2.3318796e+00],\n",
      "       [ 1.6080865e+00, -1.6300820e+00],\n",
      "       [-2.8714318e+00,  2.9230413e+00],\n",
      "       [-2.8720489e+00,  2.9233615e+00],\n",
      "       [-1.4789709e+00,  1.6575421e+00],\n",
      "       [-1.3802550e+00,  1.2162923e+00],\n",
      "       [-2.8765254e+00,  2.8291824e+00],\n",
      "       [-2.8482084e+00,  2.8630795e+00],\n",
      "       [-2.5430932e+00,  2.6177230e+00],\n",
      "       [-2.7958677e+00,  2.8649082e+00],\n",
      "       [ 1.8466130e+00, -2.0200343e+00],\n",
      "       [-1.9782904e+00,  2.0258248e+00],\n",
      "       [ 2.1208589e+00, -2.2092021e+00],\n",
      "       [-2.7281847e+00,  2.7953515e+00],\n",
      "       [-2.8541355e+00,  2.8860292e+00],\n",
      "       [ 2.1440017e+00, -2.2196076e+00],\n",
      "       [-4.2604762e-01,  1.4607735e-01],\n",
      "       [-2.8821998e+00,  2.9142709e+00],\n",
      "       [-1.9698936e+00,  1.9967787e+00],\n",
      "       [-2.7193575e+00,  2.7811370e+00],\n",
      "       [-2.8756862e+00,  2.9188161e+00],\n",
      "       [-1.6006064e+00,  1.5543022e+00],\n",
      "       [-2.7532048e+00,  2.8186665e+00],\n",
      "       [-2.8463163e+00,  2.8929772e+00],\n",
      "       [-2.8500242e+00,  2.9078462e+00],\n",
      "       [-2.8851988e+00,  2.9104414e+00],\n",
      "       [-1.8502294e+00,  1.9210571e+00],\n",
      "       [-2.7726536e+00,  2.8361404e+00],\n",
      "       [-2.3601148e+00,  2.4540854e+00],\n",
      "       [ 1.7852298e+00, -1.9269551e+00],\n",
      "       [-2.8130054e+00,  2.8733745e+00],\n",
      "       [-2.5162940e+00,  2.6173329e+00],\n",
      "       [ 1.9973727e+00, -2.0644460e+00],\n",
      "       [ 1.5093569e+00, -1.6317991e+00],\n",
      "       [ 1.3559697e+00, -1.4014876e+00],\n",
      "       [-2.8643761e+00,  2.9091487e+00],\n",
      "       [-2.2998362e+00,  2.4079020e+00],\n",
      "       [ 2.0916505e+00, -2.1708293e+00],\n",
      "       [-2.8477533e+00,  2.8700974e+00],\n",
      "       [-2.8666847e+00,  2.9005027e+00],\n",
      "       [-2.8422923e+00,  2.8866754e+00],\n",
      "       [-2.8649426e+00,  2.9172692e+00],\n",
      "       [ 1.9639829e+00, -2.0928750e+00],\n",
      "       [-2.7419298e+00,  2.8283985e+00],\n",
      "       [-1.1019406e+00,  1.0972911e+00],\n",
      "       [-1.9944679e+00,  2.0416863e+00],\n",
      "       [-2.8780651e+00,  2.9201934e+00],\n",
      "       [ 2.0549023e+00, -2.1020250e+00],\n",
      "       [-2.8699780e+00,  2.8928192e+00],\n",
      "       [-2.8906894e+00,  2.8729186e+00],\n",
      "       [-2.8823085e+00,  2.9140620e+00],\n",
      "       [-2.6619890e+00,  2.7494915e+00],\n",
      "       [-2.8884006e+00,  2.9223773e+00],\n",
      "       [-2.8557127e+00,  2.9195137e+00],\n",
      "       [-2.8895590e+00,  2.8862247e+00],\n",
      "       [-2.7645712e+00,  2.8394494e+00],\n",
      "       [-1.7883567e+00,  1.7128035e+00],\n",
      "       [ 2.0390611e+00, -2.0979342e+00],\n",
      "       [ 4.1247573e-01, -2.0888244e-01],\n",
      "       [-2.0342422e+00,  2.1270533e+00],\n",
      "       [-2.3604865e+00,  2.4338212e+00],\n",
      "       [ 1.9555268e+00, -2.0457897e+00],\n",
      "       [-2.8411078e+00,  2.8494062e+00],\n",
      "       [-2.4145911e+00,  2.5200090e+00],\n",
      "       [-2.7109406e+00,  2.7840066e+00],\n",
      "       [ 1.9579602e+00, -2.0705824e+00],\n",
      "       [-1.9144728e+00,  1.9592210e+00],\n",
      "       [-2.5998018e+00,  2.6974959e+00],\n",
      "       [-2.8811297e+00,  2.9196892e+00],\n",
      "       [-2.8346395e+00,  2.8939204e+00],\n",
      "       [-2.6970966e+00,  2.7710867e+00],\n",
      "       [-2.8291612e+00,  2.8814006e+00],\n",
      "       [-2.8808658e+00,  2.8875110e+00],\n",
      "       [-2.1112330e+00,  2.2624347e+00],\n",
      "       [-2.8290248e+00,  2.8914294e+00],\n",
      "       [ 1.1576866e+00, -1.3427109e+00],\n",
      "       [-2.3916473e+00,  2.4948838e+00],\n",
      "       [ 1.3425033e+00, -1.4526567e+00],\n",
      "       [ 1.4899830e+00, -1.5394330e+00],\n",
      "       [ 2.1874719e+00, -2.2449069e+00],\n",
      "       [-2.8817554e+00,  2.9239409e+00],\n",
      "       [-2.8606875e+00,  2.9193656e+00],\n",
      "       [-2.7709694e+00,  2.8557100e+00],\n",
      "       [-5.3336942e-01,  5.9527737e-01],\n",
      "       [-2.8527901e+00,  2.9010556e+00],\n",
      "       [-5.0262302e-01,  5.8820051e-01],\n",
      "       [-2.8864138e+00,  2.9220672e+00],\n",
      "       [-2.8029730e+00,  2.8542824e+00],\n",
      "       [-2.4602718e+00,  2.5371747e+00],\n",
      "       [ 2.3502079e-01, -2.4343308e-03],\n",
      "       [-2.3399472e+00,  2.4476190e+00],\n",
      "       [ 2.0233366e+00, -2.1007807e+00],\n",
      "       [ 2.0074143e+00, -2.1034827e+00],\n",
      "       [-2.7996380e+00,  2.8846526e+00],\n",
      "       [ 2.0978956e+00, -2.1803324e+00],\n",
      "       [-2.8762767e+00,  2.9037881e+00],\n",
      "       [-2.8592153e+00,  2.8921423e+00],\n",
      "       [-2.8933055e+00,  2.9329693e+00],\n",
      "       [-2.8601196e+00,  2.8942156e+00],\n",
      "       [-2.8718174e+00,  2.8932252e+00],\n",
      "       [-2.8232944e+00,  2.8848069e+00],\n",
      "       [-2.0787158e+00,  2.1313276e+00],\n",
      "       [-2.2467375e+00,  2.3205881e+00],\n",
      "       [ 1.8164948e+00, -1.8679584e+00],\n",
      "       [-2.6305215e+00,  2.7068281e+00],\n",
      "       [-5.7766742e-01,  4.5313120e-01],\n",
      "       [ 1.8505825e+00, -1.8928524e+00],\n",
      "       [ 2.0218918e+00, -2.1482463e+00],\n",
      "       [-1.7508999e+00,  1.9319586e+00],\n",
      "       [-2.8633189e+00,  2.9246457e+00],\n",
      "       [-2.8779402e+00,  2.9072881e+00],\n",
      "       [-1.6279801e+00,  1.6825927e+00],\n",
      "       [-2.8670790e+00,  2.9181583e+00],\n",
      "       [ 1.5324055e+00, -1.5962566e+00],\n",
      "       [-1.5959662e+00,  1.8642586e+00],\n",
      "       [ 1.9707001e+00, -2.1026177e+00],\n",
      "       [-2.8701189e+00,  2.9116898e+00],\n",
      "       [-2.4503396e+00,  2.5992880e+00],\n",
      "       [-2.8630829e+00,  2.8955233e+00],\n",
      "       [ 1.9702425e+00, -2.0084052e+00],\n",
      "       [ 1.8920287e+00, -1.9524723e+00],\n",
      "       [-2.5414510e+00,  2.6775301e+00],\n",
      "       [-2.8792839e+00,  2.8935990e+00],\n",
      "       [-2.4082370e+00,  2.5311503e+00],\n",
      "       [-2.8657908e+00,  2.9003320e+00],\n",
      "       [-2.8843155e+00,  2.9100950e+00],\n",
      "       [-2.8196921e+00,  2.8728018e+00],\n",
      "       [ 1.6317263e+00, -1.6923985e+00],\n",
      "       [-2.8941126e+00,  2.8853645e+00],\n",
      "       [-2.8793223e+00,  2.9145803e+00],\n",
      "       [ 2.1262751e+00, -2.1881669e+00],\n",
      "       [-2.8773465e+00,  2.8930354e+00],\n",
      "       [ 2.0014992e+00, -2.0433321e+00],\n",
      "       [-1.7565565e+00,  1.7618512e+00],\n",
      "       [-2.5323796e+00,  2.5593128e+00],\n",
      "       [-2.8661513e+00,  2.9111915e+00],\n",
      "       [-2.1755741e+00,  2.2182970e+00],\n",
      "       [ 1.9687024e+00, -2.0357203e+00],\n",
      "       [-2.8789389e+00,  2.8955679e+00],\n",
      "       [ 5.2242643e-01, -2.0939822e-01],\n",
      "       [-2.6710353e+00,  2.7656770e+00],\n",
      "       [-2.8663936e+00,  2.9177520e+00],\n",
      "       [ 1.9982773e+00, -2.1042650e+00],\n",
      "       [ 1.7754241e+00, -1.8775066e+00],\n",
      "       [ 2.1054416e+00, -2.1536207e+00],\n",
      "       [ 2.1003778e+00, -2.1955149e+00],\n",
      "       [ 2.0893660e+00, -2.1117022e+00],\n",
      "       [-2.6965709e+00,  2.7926846e+00],\n",
      "       [ 1.3172312e+00, -1.4021806e+00],\n",
      "       [-2.8863792e+00,  2.9071898e+00],\n",
      "       [ 6.3257501e-03,  9.4249636e-02],\n",
      "       [-2.8933244e+00,  2.9131618e+00],\n",
      "       [-2.8836894e+00,  2.9121265e+00],\n",
      "       [-2.7180266e+00,  2.7974892e+00],\n",
      "       [-2.8809063e+00,  2.9087391e+00],\n",
      "       [-2.8826156e+00,  2.9009366e+00],\n",
      "       [ 1.2218877e+00, -1.5116857e+00],\n",
      "       [-2.1172662e+00,  2.2312422e+00],\n",
      "       [-2.8829176e+00,  2.9069762e+00],\n",
      "       [-2.8393135e+00,  2.8866549e+00],\n",
      "       [-2.8835702e+00,  2.9265561e+00],\n",
      "       [-2.9087558e+00,  2.8827510e+00],\n",
      "       [ 2.0731452e+00, -2.1752267e+00],\n",
      "       [-2.6430633e+00,  2.7416632e+00],\n",
      "       [-2.8613620e+00,  2.9016471e+00],\n",
      "       [-2.8674433e+00,  2.9166861e+00],\n",
      "       [ 2.1060576e+00, -2.2019835e+00],\n",
      "       [-1.9136184e+00,  1.9410290e+00],\n",
      "       [-2.8675547e+00,  2.9183631e+00],\n",
      "       [-2.8775010e+00,  2.9034820e+00],\n",
      "       [-2.8791647e+00,  2.9132280e+00],\n",
      "       [-2.8904619e+00,  2.8865130e+00],\n",
      "       [-2.3121343e+00,  2.4398313e+00],\n",
      "       [-2.8517616e+00,  2.8928943e+00],\n",
      "       [ 2.1588821e+00, -2.2521396e+00],\n",
      "       [-2.8940363e+00,  2.9288495e+00],\n",
      "       [-2.5913849e-01,  2.8880039e-01],\n",
      "       [-2.8807101e+00,  2.9153609e+00],\n",
      "       [-2.6260839e+00,  2.6755905e+00],\n",
      "       [ 2.0965533e+00, -2.1663299e+00],\n",
      "       [-2.8781235e+00,  2.8898563e+00],\n",
      "       [-2.8346405e+00,  2.8904819e+00],\n",
      "       [-2.8555322e+00,  2.8839734e+00],\n",
      "       [-2.8346872e+00,  2.8864655e+00],\n",
      "       [ 1.9385912e+00, -2.0036852e+00],\n",
      "       [-2.7326846e+00,  2.8179488e+00],\n",
      "       [-2.8719969e+00,  2.8943958e+00],\n",
      "       [ 1.9151455e+00, -2.0403605e+00],\n",
      "       [-2.7008529e+00,  2.7793345e+00],\n",
      "       [-2.8891315e+00,  2.9104323e+00],\n",
      "       [-2.8692393e+00,  2.8953381e+00],\n",
      "       [-2.5520458e+00,  2.6612310e+00],\n",
      "       [ 1.9542667e+00, -2.0045292e+00],\n",
      "       [ 2.0829129e+00, -2.1998634e+00],\n",
      "       [-2.3081713e+00,  2.3638971e+00],\n",
      "       [-2.8442709e+00,  2.8930821e+00],\n",
      "       [-2.9143863e+00,  2.8553429e+00],\n",
      "       [-1.8595971e+00,  1.9633158e+00],\n",
      "       [ 1.9370772e+00, -2.0196857e+00],\n",
      "       [-1.5412103e+00,  1.6621416e+00],\n",
      "       [-2.1473895e-01,  5.3074616e-01],\n",
      "       [ 2.1812944e+00, -2.2708638e+00],\n",
      "       [-2.4302244e+00,  2.5689654e+00],\n",
      "       [-2.8810933e+00,  2.9185901e+00],\n",
      "       [-2.7297683e+00,  2.8158579e+00],\n",
      "       [-2.8720613e+00,  2.9145877e+00],\n",
      "       [ 1.5422863e+00, -1.7439187e+00],\n",
      "       [-2.8772280e+00,  2.9163942e+00],\n",
      "       [-2.8257275e+00,  2.8811665e+00],\n",
      "       [ 2.1660445e+00, -2.2162399e+00],\n",
      "       [-2.4634056e+00,  2.5486059e+00],\n",
      "       [-2.5288982e+00,  2.6127131e+00],\n",
      "       [-2.8713758e+00,  2.9167175e+00],\n",
      "       [-2.1837983e+00,  2.2465634e+00],\n",
      "       [-2.8650136e+00,  2.8958011e+00],\n",
      "       [-2.0506191e+00,  2.1377530e+00],\n",
      "       [-2.8450327e+00,  2.9057059e+00],\n",
      "       [-2.8722601e+00,  2.9110765e+00],\n",
      "       [-2.8490582e+00,  2.8920159e+00],\n",
      "       [-2.3277230e+00,  2.4582739e+00],\n",
      "       [-2.8890791e+00,  2.9153471e+00],\n",
      "       [-1.8577602e+00,  1.9531845e+00],\n",
      "       [-1.7245988e+00,  1.7780958e+00],\n",
      "       [-2.5532408e+00,  2.5982103e+00],\n",
      "       [ 2.0538712e+00, -2.1057227e+00],\n",
      "       [-2.8775969e+00,  2.9138632e+00],\n",
      "       [-2.2207019e+00,  2.3858268e+00],\n",
      "       [ 2.1480198e+00, -2.2581539e+00],\n",
      "       [ 7.5829440e-01, -1.1153775e+00],\n",
      "       [-2.8902116e+00,  2.9137478e+00],\n",
      "       [ 1.2352077e+00, -1.4276487e+00],\n",
      "       [-2.3702676e+00,  2.4848824e+00]], dtype=float32), label_ids=array([1, 0, 0, 1, 0, 1, 0, 1, 1, 1, 1, 0, 0, 1, 1, 1, 1, 0, 1, 0, 0, 1,\n",
      "       0, 1, 1, 1, 0, 1, 1, 1, 0, 1, 1, 1, 1, 0, 0, 0, 1, 1, 0, 1, 0, 0,\n",
      "       0, 1, 1, 0, 1, 1, 1, 1, 1, 1, 1, 1, 1, 1, 1, 1, 0, 1, 1, 1, 1, 0,\n",
      "       1, 1, 0, 1, 1, 1, 1, 1, 1, 1, 0, 1, 1, 1, 0, 1, 1, 0, 1, 0, 1, 0,\n",
      "       1, 1, 0, 1, 1, 0, 1, 1, 0, 1, 1, 1, 1, 1, 1, 1, 0, 1, 1, 0, 0, 1,\n",
      "       1, 1, 1, 1, 0, 0, 1, 1, 1, 1, 1, 1, 0, 1, 1, 1, 1, 0, 1, 1, 1, 0,\n",
      "       1, 0, 1, 1, 0, 0, 1, 0, 1, 0, 0, 1, 0, 0, 1, 1, 1, 1, 0, 1, 1, 1,\n",
      "       1, 1, 1, 0, 0, 1, 1, 1, 1, 1, 1, 1, 1, 0, 1, 0, 0, 1, 1, 1, 0, 1,\n",
      "       1, 0, 1, 1, 0, 0, 1, 1, 0, 1, 0, 1, 0, 1, 1, 0, 1, 1, 0, 1, 1, 0,\n",
      "       1, 1, 1, 0, 1, 1, 1, 0, 1, 1, 1, 0, 0, 1, 1, 0, 1, 1, 1, 1, 0, 1,\n",
      "       1, 1, 1, 0, 1, 1, 1, 1, 1, 1, 1, 1, 1, 1, 1, 0, 1, 0, 1, 0, 1, 0,\n",
      "       1, 1, 1, 1, 1, 0, 1, 1, 1, 0, 1, 0, 1, 0, 1, 1, 1, 0, 1, 0, 1, 1,\n",
      "       0, 1, 1, 0, 0, 1, 0, 1, 1, 1, 1, 1, 1, 1, 1, 0, 1, 1, 1, 0, 0, 1,\n",
      "       1, 1, 1, 1, 1, 0, 1, 1, 1, 0, 0, 0, 1, 1, 1, 1, 1, 1, 1, 1, 0, 1,\n",
      "       0, 0, 0, 1, 1, 0, 1, 0, 1, 1, 0, 0, 0, 0, 0, 1, 0, 1, 0, 1, 1, 1,\n",
      "       1, 1, 0, 1, 1, 1, 1, 0, 0, 1, 1, 1, 0, 0, 1, 1, 1, 1, 0, 1, 0, 1,\n",
      "       0, 1, 0, 0, 1, 1, 1, 1, 0, 1, 1, 0, 1, 1, 0, 1, 0, 0, 1, 1, 1, 1,\n",
      "       0, 0, 0, 0, 1, 1, 1, 1, 0, 1, 1, 0, 1, 0, 1, 1, 1, 1, 1, 1, 1, 1,\n",
      "       1, 1, 1, 1, 0, 1, 1, 0, 1, 1, 0, 1]), metrics={'test_loss': 0.519769012928009, 'test_accuracy': 0.8700980392156863, 'test_f1': 0.909710391822828, 'test_runtime': 17.153, 'test_samples_per_second': 23.786, 'test_steps_per_second': 2.973})\n"
     ]
    }
   ],
   "source": [
    "trainer.train()\n",
    "\n",
    "# predictions, label_ids, metrics = trainer.predict(tokenized_ds[\"validation\"])\n",
    "predictions = trainer.predict(tokenized_ds[\"validation\"])\n",
    "print(predictions)"
   ]
  }
 ],
 "metadata": {
  "kernelspec": {
   "display_name": "ml-playground",
   "language": "python",
   "name": "python3"
  },
  "language_info": {
   "codemirror_mode": {
    "name": "ipython",
    "version": 3
   },
   "file_extension": ".py",
   "mimetype": "text/x-python",
   "name": "python",
   "nbconvert_exporter": "python",
   "pygments_lexer": "ipython3",
   "version": "3.13.3"
  }
 },
 "nbformat": 4,
 "nbformat_minor": 5
}
